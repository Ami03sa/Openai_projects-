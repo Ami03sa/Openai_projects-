{
  "nbformat": 4,
  "nbformat_minor": 0,
  "metadata": {
    "colab": {
      "provenance": [],
      "include_colab_link": true
    },
    "kernelspec": {
      "name": "python3",
      "display_name": "Python 3"
    },
    "language_info": {
      "name": "python"
    }
  },
  "cells": [
    {
      "cell_type": "markdown",
      "metadata": {
        "id": "view-in-github",
        "colab_type": "text"
      },
      "source": [
        "<a href=\"https://colab.research.google.com/github/Ami03sa/Openai_projects-/blob/main/Blog_Generator.ipynb\" target=\"_parent\"><img src=\"https://colab.research.google.com/assets/colab-badge.svg\" alt=\"Open In Colab\"/></a>"
      ]
    },
    {
      "cell_type": "markdown",
      "source": [
        "\n",
        "\n",
        " building my\n",
        "  very own Blog Generator using the OpenAI API!\n",
        "\n"
      ],
      "metadata": {
        "id": "vUehOJlORE-j"
      }
    },
    {
      "cell_type": "markdown",
      "source": [
        "# 2. Libraries import"
      ],
      "metadata": {
        "id": "NDlbXftjSHdL"
      }
    },
    {
      "cell_type": "code",
      "source": [
        "pip install openai"
      ],
      "metadata": {
        "id": "KTBw517ySLF2",
        "colab": {
          "base_uri": "https://localhost:8080/"
        },
        "outputId": "ef9faf95-8858-4ce1-e595-093669aa2bd0"
      },
      "execution_count": 1,
      "outputs": [
        {
          "output_type": "stream",
          "name": "stdout",
          "text": [
            "Requirement already satisfied: openai in /usr/local/lib/python3.12/dist-packages (1.101.0)\n",
            "Requirement already satisfied: anyio<5,>=3.5.0 in /usr/local/lib/python3.12/dist-packages (from openai) (4.10.0)\n",
            "Requirement already satisfied: distro<2,>=1.7.0 in /usr/local/lib/python3.12/dist-packages (from openai) (1.9.0)\n",
            "Requirement already satisfied: httpx<1,>=0.23.0 in /usr/local/lib/python3.12/dist-packages (from openai) (0.28.1)\n",
            "Requirement already satisfied: jiter<1,>=0.4.0 in /usr/local/lib/python3.12/dist-packages (from openai) (0.10.0)\n",
            "Requirement already satisfied: pydantic<3,>=1.9.0 in /usr/local/lib/python3.12/dist-packages (from openai) (2.11.7)\n",
            "Requirement already satisfied: sniffio in /usr/local/lib/python3.12/dist-packages (from openai) (1.3.1)\n",
            "Requirement already satisfied: tqdm>4 in /usr/local/lib/python3.12/dist-packages (from openai) (4.67.1)\n",
            "Requirement already satisfied: typing-extensions<5,>=4.11 in /usr/local/lib/python3.12/dist-packages (from openai) (4.15.0)\n",
            "Requirement already satisfied: idna>=2.8 in /usr/local/lib/python3.12/dist-packages (from anyio<5,>=3.5.0->openai) (3.10)\n",
            "Requirement already satisfied: certifi in /usr/local/lib/python3.12/dist-packages (from httpx<1,>=0.23.0->openai) (2025.8.3)\n",
            "Requirement already satisfied: httpcore==1.* in /usr/local/lib/python3.12/dist-packages (from httpx<1,>=0.23.0->openai) (1.0.9)\n",
            "Requirement already satisfied: h11>=0.16 in /usr/local/lib/python3.12/dist-packages (from httpcore==1.*->httpx<1,>=0.23.0->openai) (0.16.0)\n",
            "Requirement already satisfied: annotated-types>=0.6.0 in /usr/local/lib/python3.12/dist-packages (from pydantic<3,>=1.9.0->openai) (0.7.0)\n",
            "Requirement already satisfied: pydantic-core==2.33.2 in /usr/local/lib/python3.12/dist-packages (from pydantic<3,>=1.9.0->openai) (2.33.2)\n",
            "Requirement already satisfied: typing-inspection>=0.4.0 in /usr/local/lib/python3.12/dist-packages (from pydantic<3,>=1.9.0->openai) (0.4.1)\n"
          ]
        }
      ]
    },
    {
      "cell_type": "code",
      "execution_count": 2,
      "metadata": {
        "id": "lYFNyycCQ2p-"
      },
      "outputs": [],
      "source": [
        "import os\n",
        "import openai\n",
        "from openai import OpenAI"
      ]
    },
    {
      "cell_type": "markdown",
      "source": [
        "# 3. Sending a first request to OpenAI API\n",
        "\n",
        "\n",
        "### 3.1 Setting up API Key"
      ],
      "metadata": {
        "id": "TwaQS_nXSQxf"
      }
    },
    {
      "cell_type": "code",
      "source": [
        "os.environ[\"OPENAI_API_KEY\"] = \"\"\n"
      ],
      "metadata": {
        "id": "btc16h6ySPFA"
      },
      "execution_count": 26,
      "outputs": []
    },
    {
      "cell_type": "markdown",
      "source": [
        "### 3.2 OpenAI available models"
      ],
      "metadata": {
        "id": "i7Woy2IBTJ2Y"
      }
    },
    {
      "cell_type": "code",
      "source": [
        "print(client.models.list())"
      ],
      "metadata": {
        "colab": {
          "base_uri": "https://localhost:8080/"
        },
        "id": "Yi2MpDWIS5UR",
        "outputId": "9fdf2d72-8cc0-47b5-d661-c6f3ceb0433d"
      },
      "execution_count": 9,
      "outputs": [
        {
          "output_type": "stream",
          "name": "stdout",
          "text": [
            "SyncPage[Model](data=[Model(id='gpt-4-0613', created=1686588896, object='model', owned_by='openai'), Model(id='gpt-4', created=1687882411, object='model', owned_by='openai'), Model(id='gpt-3.5-turbo', created=1677610602, object='model', owned_by='openai'), Model(id='gpt-audio', created=1756339249, object='model', owned_by='system'), Model(id='gpt-5-nano', created=1754426384, object='model', owned_by='system'), Model(id='gpt-audio-2025-08-28', created=1756256146, object='model', owned_by='system'), Model(id='gpt-realtime', created=1756271701, object='model', owned_by='system'), Model(id='gpt-realtime-2025-08-28', created=1756271773, object='model', owned_by='system'), Model(id='davinci-002', created=1692634301, object='model', owned_by='system'), Model(id='babbage-002', created=1692634615, object='model', owned_by='system'), Model(id='gpt-3.5-turbo-instruct', created=1692901427, object='model', owned_by='system'), Model(id='gpt-3.5-turbo-instruct-0914', created=1694122472, object='model', owned_by='system'), Model(id='dall-e-3', created=1698785189, object='model', owned_by='system'), Model(id='dall-e-2', created=1698798177, object='model', owned_by='system'), Model(id='gpt-4-1106-preview', created=1698957206, object='model', owned_by='system'), Model(id='gpt-3.5-turbo-1106', created=1698959748, object='model', owned_by='system'), Model(id='tts-1-hd', created=1699046015, object='model', owned_by='system'), Model(id='tts-1-1106', created=1699053241, object='model', owned_by='system'), Model(id='tts-1-hd-1106', created=1699053533, object='model', owned_by='system'), Model(id='text-embedding-3-small', created=1705948997, object='model', owned_by='system'), Model(id='text-embedding-3-large', created=1705953180, object='model', owned_by='system'), Model(id='gpt-4-0125-preview', created=1706037612, object='model', owned_by='system'), Model(id='gpt-4-turbo-preview', created=1706037777, object='model', owned_by='system'), Model(id='gpt-3.5-turbo-0125', created=1706048358, object='model', owned_by='system'), Model(id='gpt-4-turbo', created=1712361441, object='model', owned_by='system'), Model(id='gpt-4-turbo-2024-04-09', created=1712601677, object='model', owned_by='system'), Model(id='gpt-4o', created=1715367049, object='model', owned_by='system'), Model(id='gpt-4o-2024-05-13', created=1715368132, object='model', owned_by='system'), Model(id='gpt-4o-mini-2024-07-18', created=1721172717, object='model', owned_by='system'), Model(id='gpt-4o-mini', created=1721172741, object='model', owned_by='system'), Model(id='gpt-4o-2024-08-06', created=1722814719, object='model', owned_by='system'), Model(id='chatgpt-4o-latest', created=1723515131, object='model', owned_by='system'), Model(id='o1-mini-2024-09-12', created=1725648979, object='model', owned_by='system'), Model(id='o1-mini', created=1725649008, object='model', owned_by='system'), Model(id='gpt-4o-realtime-preview-2024-10-01', created=1727131766, object='model', owned_by='system'), Model(id='gpt-4o-audio-preview-2024-10-01', created=1727389042, object='model', owned_by='system'), Model(id='gpt-4o-audio-preview', created=1727460443, object='model', owned_by='system'), Model(id='gpt-4o-realtime-preview', created=1727659998, object='model', owned_by='system'), Model(id='omni-moderation-latest', created=1731689265, object='model', owned_by='system'), Model(id='omni-moderation-2024-09-26', created=1732734466, object='model', owned_by='system'), Model(id='gpt-4o-realtime-preview-2024-12-17', created=1733945430, object='model', owned_by='system'), Model(id='gpt-4o-audio-preview-2024-12-17', created=1734034239, object='model', owned_by='system'), Model(id='gpt-4o-mini-realtime-preview-2024-12-17', created=1734112601, object='model', owned_by='system'), Model(id='gpt-4o-mini-audio-preview-2024-12-17', created=1734115920, object='model', owned_by='system'), Model(id='o1-2024-12-17', created=1734326976, object='model', owned_by='system'), Model(id='o1', created=1734375816, object='model', owned_by='system'), Model(id='gpt-4o-mini-realtime-preview', created=1734387380, object='model', owned_by='system'), Model(id='gpt-4o-mini-audio-preview', created=1734387424, object='model', owned_by='system'), Model(id='o3-mini', created=1737146383, object='model', owned_by='system'), Model(id='o3-mini-2025-01-31', created=1738010200, object='model', owned_by='system'), Model(id='gpt-4o-2024-11-20', created=1739331543, object='model', owned_by='system'), Model(id='gpt-4o-search-preview-2025-03-11', created=1741388170, object='model', owned_by='system'), Model(id='gpt-4o-search-preview', created=1741388720, object='model', owned_by='system'), Model(id='gpt-4o-mini-search-preview-2025-03-11', created=1741390858, object='model', owned_by='system'), Model(id='gpt-4o-mini-search-preview', created=1741391161, object='model', owned_by='system'), Model(id='gpt-4o-transcribe', created=1742068463, object='model', owned_by='system'), Model(id='gpt-4o-mini-transcribe', created=1742068596, object='model', owned_by='system'), Model(id='o1-pro-2025-03-19', created=1742251504, object='model', owned_by='system'), Model(id='o1-pro', created=1742251791, object='model', owned_by='system'), Model(id='gpt-4o-mini-tts', created=1742403959, object='model', owned_by='system'), Model(id='o3-2025-04-16', created=1744133301, object='model', owned_by='system'), Model(id='o4-mini-2025-04-16', created=1744133506, object='model', owned_by='system'), Model(id='o3', created=1744225308, object='model', owned_by='system'), Model(id='o4-mini', created=1744225351, object='model', owned_by='system'), Model(id='gpt-4.1-2025-04-14', created=1744315746, object='model', owned_by='system'), Model(id='gpt-4.1', created=1744316542, object='model', owned_by='system'), Model(id='gpt-4.1-mini-2025-04-14', created=1744317547, object='model', owned_by='system'), Model(id='gpt-4.1-mini', created=1744318173, object='model', owned_by='system'), Model(id='gpt-4.1-nano-2025-04-14', created=1744321025, object='model', owned_by='system'), Model(id='gpt-4.1-nano', created=1744321707, object='model', owned_by='system'), Model(id='gpt-image-1', created=1745517030, object='model', owned_by='system'), Model(id='codex-mini-latest', created=1746673257, object='model', owned_by='system'), Model(id='gpt-4o-realtime-preview-2025-06-03', created=1748907838, object='model', owned_by='system'), Model(id='gpt-4o-audio-preview-2025-06-03', created=1748908498, object='model', owned_by='system'), Model(id='o4-mini-deep-research', created=1749685485, object='model', owned_by='system'), Model(id='o4-mini-deep-research-2025-06-26', created=1750866121, object='model', owned_by='system'), Model(id='gpt-5-chat-latest', created=1754073306, object='model', owned_by='system'), Model(id='gpt-5-2025-08-07', created=1754075360, object='model', owned_by='system'), Model(id='gpt-5', created=1754425777, object='model', owned_by='system'), Model(id='gpt-5-mini-2025-08-07', created=1754425867, object='model', owned_by='system'), Model(id='gpt-5-mini', created=1754425928, object='model', owned_by='system'), Model(id='gpt-5-nano-2025-08-07', created=1754426303, object='model', owned_by='system'), Model(id='gpt-3.5-turbo-16k', created=1683758102, object='model', owned_by='openai-internal'), Model(id='tts-1', created=1681940951, object='model', owned_by='openai-internal'), Model(id='whisper-1', created=1677532384, object='model', owned_by='openai-internal'), Model(id='text-embedding-ada-002', created=1671217299, object='model', owned_by='openai-internal')], object='list')\n"
          ]
        }
      ]
    },
    {
      "cell_type": "markdown",
      "source": [
        "Find about the Completion endpoint and all of its arguments: https://platform.openai.com/docs/api-reference/completions/create"
      ],
      "metadata": {
        "id": "JtpBCMAeUF6o"
      }
    },
    {
      "cell_type": "code",
      "source": [
        "client.completions.create(\n",
        "    model = \"gpt-3.5-turbo-instruct\",\n",
        "    prompt =\"story about a job that finally got a job offer as a computer scince graduate\",\n",
        "    max_tokens =500\n",
        ")"
      ],
      "metadata": {
        "id": "Ch6chVYoTRyq",
        "colab": {
          "base_uri": "https://localhost:8080/"
        },
        "outputId": "714c48ee-af77-4b14-a7ed-a86a72b7601d"
      },
      "execution_count": 14,
      "outputs": [
        {
          "output_type": "execute_result",
          "data": {
            "text/plain": [
              "Completion(id='cmpl-CBJxEyKptKcjHqGdGux1SrwLdTKyj', choices=[CompletionChoice(finish_reason='length', index=0, logprobs=None, text=\"\\n\\nIt had been a long and exhausting journey for Jake. Ever since he graduated from college with a degree in computer science, he had been tirelessly searching for a job. But the highly competitive job market and his lack of professional experience always seemed to work against him. Jake had always dreamed of working in the booming tech industry, but with each passing day of rejection letters and unsuccessful interviews, his dream began to feel more and more distant.\\n\\nBut Jake refused to give up. He spent hours every day applying for jobs, reaching out to his contacts and networking with people in the field. And finally, his persistence paid off.\\n\\nOne day, as Jake was scrolling through job listings, he came across a posting for a software engineer position at a well-known tech company. As he read through the job description, Jake's heart started racing with excitement. This was the perfect opportunity for him to showcase his skills and kickstart his career in the tech industry.\\n\\nWithout wasting any time, Jake tailored his resume and cover letter to highlight his relevant skills and experiences. He poured his heart and soul into the application, hoping that this would be the one that would land him the job.\\n\\nWeeks went by, and Jake hadn't heard back from the company. He was starting to lose hope once again, convinced that he had been overlooked for the position. But just when he was about to give up, Jake received an email from the company's HR department.\\n\\nHe couldn't believe it. They wanted to invite him for an interview! Jake was over the moon. He spent the next few days preparing for the interview, researching the company, and practicing his coding skills. Despite his nerves, he was determined to give it his best shot.\\n\\nThe day of the interview arrived, and Jake made his way to the company's headquarters. As he walked into the sleek and modern office, he felt a surge of excitement and nervousness. The interview went by in a blur, but to Jake's surprise, he felt like he had aced it. When he left the building, he couldn't help but feel hopeful.\\n\\nDays turned into weeks, and Jake anxiously waited for a response from the company. And then one day, it finally came. The HR department had offered him the job!\\n\\nJake couldn't believe it. He had finally landed a job in his dream industry, and at a top-notch company at that. He accepted the offer with a huge smile on his face, feeling grateful for all the hard work and\")], created=1756814348, model='gpt-3.5-turbo-instruct:20230824-v2', object='text_completion', system_fingerprint=None, usage=CompletionUsage(completion_tokens=500, prompt_tokens=16, total_tokens=516, completion_tokens_details=None, prompt_tokens_details=None))"
            ]
          },
          "metadata": {},
          "execution_count": 14
        }
      ]
    },
    {
      "cell_type": "markdown",
      "source": [
        "# 4. Building our Blog generator"
      ],
      "metadata": {
        "id": "9_OjVDWsUe4n"
      }
    },
    {
      "cell_type": "code",
      "source": [
        "response = client.completions.create(\n",
        "    model = \"gpt-3.5-turbo-instruct\",\n",
        "    prompt =\"generate a blog about Giannis Antetokounmpo\",\n",
        "    max_tokens =700,\n",
        "    temperature = 1\n",
        ")"
      ],
      "metadata": {
        "id": "XW3sF_EmTbtr"
      },
      "execution_count": 16,
      "outputs": []
    },
    {
      "cell_type": "code",
      "source": [
        "print(response.choices[0].text)"
      ],
      "metadata": {
        "id": "msr1bpSNUsZ9",
        "colab": {
          "base_uri": "https://localhost:8080/"
        },
        "outputId": "b8d6d53f-3e79-4c9f-8f0e-306b68212f25"
      },
      "execution_count": 19,
      "outputs": [
        {
          "output_type": "stream",
          "name": "stdout",
          "text": [
            "\n",
            "Giannis Antetokounmpo, also known as the “Greek Freak”, is one of the most exciting and dominant players in the NBA today. Born in Athens, Greece, on December 6, 1994, Giannis has taken the basketball world by storm with his incredible athleticism, skill, and drive to be the best.\n",
            "\n",
            "At the young age of 18, Giannis was drafted by the Milwaukee Bucks in the first round of the 2013 NBA Draft. Although his early years in the league were filled with ups and downs, it was evident that he had immense potential. As he worked tirelessly to improve his game, Giannis began to make a name for himself and gain recognition from fellow players and coaches.\n",
            "\n",
            "In the 2016-2017 season, Giannis’ hard work paid off as he was selected for his first All-Star Game and was named the NBA’s Most Improved Player. From that point on, there was no stopping him. Giannis continued to improve with each passing year and has solidified himself as one of the best players in the league.\n",
            "\n",
            "Standing at 6’11” with a 7’3” wingspan, Giannis possesses a unique combination of size, agility, and speed. His ability to handle the ball and attack the basket with ease is what sets him apart from other players. He has also developed a reliable outside shot, making him a complete threat on the court.\n",
            "\n",
            "But it’s not just his physical abilities that make Giannis stand out. His work ethic, determination, and humble attitude have also contributed to his success. He is known for his relentless pursuit of perfection and his desire to always get better. This mindset has earned him the admiration and respect of his teammates, coaches, and fans alike.\n",
            "\n",
            "In the 2018-2019 season, Giannis reached new heights as he was named the NBA’s Most Valuable Player and led the Bucks to the best record in the league. He continued to dominate the following year and led his team to the Eastern Conference Finals for the first time since 2001.\n",
            "\n",
            "Outside of the NBA, Giannis has also been a key player for the Greek national team and has represented his country in numerous international tournaments. He takes great pride in being able to represent his homeland and is an inspiration to many young basketball players in Greece.\n",
            "\n",
            "Off the court, Giannis uses his platform to give back to his community and make a positive impact. He has partnered with various charities and organizations and has even started his own foundation, the “Giannis Foundation”, focused on providing support and resources to children and families in need.\n",
            "\n",
            "At only 26 years old, Giannis Antetokounmpo has already achieved so much in his career. But what makes him truly special is his drive to continue improving and pushing himself to be the best. With his talent, determination, and work ethic, there’s no limit to what he can achieve in the future. He is truly a once-in-a-generation player and the future of the NBA.\n"
          ]
        }
      ]
    },
    {
      "cell_type": "code",
      "source": [
        "costum_prompt = \"\"\" you are a sports writer with years of experience writing impactful blogs that cover the nba.\n",
        "Your task is to write a blog on any topic system provides you with. Make sure to write in a format that works for Medium.\n",
        "Each blog should be separated into segments that have titles and subtitles. Each paragraph should be three sentences long.\n",
        "\n",
        "Topic: Giannis vs Jokic\n",
        "Additional pointers: None\n",
        "\"\"\"\n",
        "response = client.completions.create(\n",
        "    model = \"gpt-3.5-turbo-instruct\",\n",
        "    prompt = costum_prompt,\n",
        "    max_tokens =700,\n",
        "    temperature = 1\n",
        ")"
      ],
      "metadata": {
        "id": "yX8hooEwVRBm"
      },
      "execution_count": 20,
      "outputs": []
    },
    {
      "cell_type": "code",
      "source": [
        "print(response.choices[0].text)"
      ],
      "metadata": {
        "id": "z3i8Xn2qL9Um",
        "colab": {
          "base_uri": "https://localhost:8080/"
        },
        "outputId": "809d249c-6177-416d-ba51-f29b29194f54"
      },
      "execution_count": 22,
      "outputs": [
        {
          "output_type": "stream",
          "name": "stdout",
          "text": [
            "\n",
            "Title: The Battle of the Big Men: Breaking Down Giannis Antetokounmpo and Nikola Jokic\n",
            "\n",
            "Introduction:\n",
            "The NBA is home to some of the most talented players in the world, but when it comes to the battle of the big men, two names often come to mind - Giannis Antetokounmpo and Nikola Jokic. These two players have proven their dominance in the league, each with their own unique skill set and style of play. In this blog, we'll delve into the strengths and weaknesses of each player and ultimately determine who comes out on top.\n",
            "\n",
            "Segment 1 - Offensive Prowess:\n",
            "When it comes to offense, both Giannis and Jokic are forces to be reckoned with. Giannis, known as the \"Greek Freak,\" is an athletic powerhouse with the ability to drive to the basket and finish with a thunderous dunk. His height and length allow him to dominate in the paint and he has also improved his outside shooting in recent years. On the other hand, Jokic is a skilled passer and shooter, with his unorthodox style of play often leaving defenders puzzled. He has a smooth touch around the basket and can also knock down shots from beyond the arc. While Giannis may be the more explosive scorer, Jokic's versatility and playmaking abilities make him a dangerous offensive threat.\n",
            "\n",
            "Segment 2 - Defensive Dominance:\n",
            "Both players have also made a name for themselves on the defensive end. Giannis, with his incredible wingspan and quickness, is a formidable defender who can guard multiple positions. He has been named the NBA's Defensive Player of the Year twice and is always a candidate for the award. Jokic may not have the same level of athleticism as Giannis, but he makes up for it with his high basketball IQ and positioning. He has improved his defense over the years and is a key component of the Denver Nuggets' defensive strategy. While both players excel on the defensive end, Giannis gets the edge due to his more impressive physical abilities.\n",
            "\n",
            "Segment 3 - Impact on the Team:\n",
            "One of the most important aspects to consider when comparing players is their impact on their team's success. In this regard, both Giannis and Jokic have led their teams to impressive records and deep playoff runs. Giannis has been the cornerstone of the Milwaukee Bucks, leading them to the NBA Finals in 2021 and winning the championship in 2022. Jokic, on the other hand, has led the Nuggets to multiple playoff appearances and helped them reach the Conference Finals in 2020. While both players have proven to be valuable assets to their teams, Giannis' championship pedigree gives him a slight edge.\n",
            "\n",
            "Conclusion:\n",
            "In the battle of Giannis versus Jokic, it's hard to declare a definitive winner. Both players bring unique skills and talents to the court and have been instrumental in their team's success. However, if we had to pick one, Giannis gets the edge due to his more well-rounded game and championship-winning experience. Regardless, it's safe to say that the NBA is fortunate to have these two dominant big men gracing the court and providing us with exciting basketball.\n"
          ]
        }
      ]
    },
    {
      "cell_type": "code",
      "source": [
        "user_topic = input(\"Specify Topic:\")\n",
        "additional_info =input(\"Any additional info: \")\n",
        "\n",
        "\n",
        "costum_prompt = \"\"\" you are a sports writer with years of experience writing impactful blogs that cover the nba.\n",
        "Your task is to write a blog on any topic system provides you with. Make sure to write in a format that works for Medium.\n",
        "Each blog should be separated into segments that have titles and subtitles. Each paragraph should be three sentences long.\n",
        "\n",
        "Topic: {user_topic}\n",
        "Additional pointers: {additional_info}\n",
        "\"\"\"\n",
        "response = client.completions.create(\n",
        "    model = \"gpt-3.5-turbo-instruct\",\n",
        "    prompt = costum_prompt,\n",
        "    max_tokens =700,\n",
        "    temperature = 1\n",
        ")"
      ],
      "metadata": {
        "id": "SFhM14-NVUqJ",
        "colab": {
          "base_uri": "https://localhost:8080/"
        },
        "outputId": "999f38a2-c409-46cf-e3ec-580fad5acbed"
      },
      "execution_count": 24,
      "outputs": [
        {
          "name": "stdout",
          "output_type": "stream",
          "text": [
            "Specify Topic:next nba star \n",
            "Any additional info: \n"
          ]
        }
      ]
    },
    {
      "cell_type": "code",
      "source": [
        "print(response.choices[0].text)"
      ],
      "metadata": {
        "id": "oZB3R8y8V_jg",
        "colab": {
          "base_uri": "https://localhost:8080/"
        },
        "outputId": "b17b6798-2d87-4a02-e86c-731d85283c97"
      },
      "execution_count": 25,
      "outputs": [
        {
          "output_type": "stream",
          "name": "stdout",
          "text": [
            "\n",
            "Title: The Rise of Analytics in the NBA\n",
            "\n",
            "Subtitle: How Advanced Statistics are Changing the Game\n",
            "\n",
            "Paragraph 1:\n",
            "For years, traditional statistics like points, rebounds, and assists were the main ways to measure a player's performance in the NBA. However, in recent years, there has been a shift towards advanced analytics that provide a deeper understanding of a player's impact on the court. These advanced stats have changed the way teams evaluate players and make strategic decisions, leading to a revolution in the league.\n",
            "\n",
            "Subtitle: The Impact of Advanced Metrics on Player Evaluation\n",
            "\n",
            "Paragraph 2:\n",
            "One of the most significant changes brought on by advanced analytics is the emphasis on efficiency. Traditional statistics can be misleading as players who score a lot of points may not necessarily be doing so in an efficient manner. This is where advanced metrics like true shooting percentage, effective field goal percentage, and player efficiency rating come into play. Teams can now accurately evaluate a player's impact on the court, taking into account their efficiency and overall contribution to the team's success.\n",
            "\n",
            "Subtitle: The Use of Advanced Stats in Team Strategy\n",
            "\n",
            "Paragraph 3:\n",
            "Not only is the use of advanced analytics changing player evaluation, but it is also influencing team strategy. Coaches and front offices now have access to data that can help them make informed decisions about lineups, rotations, and defensive schemes. Metrics like opponent field goal percentage and rebounding percentage allow teams to identify areas where they are lacking and make adjustments to improve their overall performance.\n",
            "\n",
            "Subtitle: The Impact on the Game's Stars\n",
            "\n",
            "Paragraph 4:\n",
            "The rise of analytics in the NBA has also affected the league's top players. In the past, players were mainly judged based on their traditional statistics, but now, their efficiency and overall impact on the game are also taken into account. This change has led to a new era of \"stat-stuffing\" where players are not just chasing stats but are also focused on making a positive impact on the court in all areas of the game.\n",
            "\n",
            "Subtitle: The Future of Analytics in the NBA\n",
            "\n",
            "Paragraph 5:\n",
            "With the continuous advancements and developments in technology and data analysis, it's safe to say that the use of advanced statistics in the NBA will only continue to grow. New metrics are being created, and teams are finding ways to integrate data into their decision-making processes. As a result, we can expect to see even more innovation and impact from analytics in the years to come.\n",
            "\n",
            "Conclusion:\n",
            "The rise of analytics in the NBA has sparked a new era of understanding and evaluating the game of basketball. It has changed the way players are evaluated, teams strategize, and the overall direction of the league. As technology continues to advance, we can only imagine the potential for even more groundbreaking developments in the world of basketball analytics. \n"
          ]
        }
      ]
    }
  ]
}